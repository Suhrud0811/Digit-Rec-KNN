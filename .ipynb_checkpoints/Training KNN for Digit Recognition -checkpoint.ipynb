{
 "cells": [
  {
   "cell_type": "code",
   "execution_count": 4,
   "id": "subtle-continent",
   "metadata": {},
   "outputs": [],
   "source": [
    "from sklearn.datasets import load_digits"
   ]
  },
  {
   "cell_type": "code",
   "execution_count": 5,
   "id": "corrected-bread",
   "metadata": {},
   "outputs": [],
   "source": [
    "dataset=load_digits()"
   ]
  },
  {
   "cell_type": "code",
   "execution_count": 6,
   "id": "optimum-boards",
   "metadata": {},
   "outputs": [
    {
     "name": "stdout",
     "output_type": "stream",
     "text": [
      "data (1797, 64)\n",
      "images (1797, 8, 8)\n",
      "target (1797,)\n"
     ]
    }
   ],
   "source": [
    "data=dataset.data\n",
    "images=dataset.images\n",
    "target=dataset.target\n",
    "\n",
    "print(\"data\",data.shape)\n",
    "print(\"images\",images.shape)\n",
    "print('target',target.shape)"
   ]
  },
  {
   "cell_type": "code",
   "execution_count": 7,
   "id": "capable-protection",
   "metadata": {},
   "outputs": [],
   "source": [
    "from matplotlib import pyplot as plt"
   ]
  },
  {
   "cell_type": "code",
   "execution_count": 8,
   "id": "engaged-lover",
   "metadata": {},
   "outputs": [
    {
     "data": {
      "text/plain": [
       "<matplotlib.image.AxesImage at 0x1e19ccb1b80>"
      ]
     },
     "execution_count": 8,
     "metadata": {},
     "output_type": "execute_result"
    },
    {
     "data": {
      "image/png": "[encoded data removed]",
      "text/plain": [
       "<Figure size 432x288 with 1 Axes>"
      ]
     },
     "metadata": {
      "needs_background": "light"
     },
     "output_type": "display_data"
    }
   ],
   "source": [
    "plt.imshow(images[0],cmap='gray') #imshow to display image"
   ]
  },
  {
   "cell_type": "code",
   "execution_count": 9,
   "id": "disturbed-house",
   "metadata": {},
   "outputs": [],
   "source": [
    "from sklearn.model_selection import train_test_split"
   ]
  },
  {
   "cell_type": "code",
   "execution_count": 10,
   "id": "supposed-metropolitan",
   "metadata": {},
   "outputs": [],
   "source": [
    "train_data,test_data,train_target,test_target=train_test_split(data,target,test_size=0.2)"
   ]
  },
  {
   "cell_type": "code",
   "execution_count": 11,
   "id": "inclusive-stanley",
   "metadata": {},
   "outputs": [],
   "source": [
    "from sklearn.neighbors import KNeighborsClassifier"
   ]
  },
  {
   "cell_type": "code",
   "execution_count": 12,
   "id": "cooked-frank",
   "metadata": {},
   "outputs": [],
   "source": [
    "KNN=KNeighborsClassifier(n_neighbors=3)\n",
    "KNN.fit(train_data,train_target)\n",
    "\n",
    "prediction=KNN.predict(test_data)"
   ]
  },
  {
   "cell_type": "markdown",
   "id": "located-showcase",
   "metadata": {},
   "source": [
    "# Evaluating the model"
   ]
  },
  {
   "cell_type": "code",
   "execution_count": 13,
   "id": "confidential-assumption",
   "metadata": {},
   "outputs": [],
   "source": [
    "from sklearn.metrics import accuracy_score"
   ]
  },
  {
   "cell_type": "code",
   "execution_count": 14,
   "id": "individual-plaza",
   "metadata": {},
   "outputs": [
    {
     "name": "stdout",
     "output_type": "stream",
     "text": [
      "0.9888888888888889\n"
     ]
    }
   ],
   "source": [
    "acc=accuracy_score(test_target,prediction)\n",
    "print(acc)\n",
    "#acc=numebr of correct prediction/total number of predictions\n",
    "\n"
   ]
  },
  {
   "cell_type": "markdown",
   "id": "surgical-bride",
   "metadata": {},
   "source": [
    "# Scikit-learn.org\n",
    "\n",
    "### For References"
   ]
  },
  {
   "cell_type": "code",
   "execution_count": 15,
   "id": "characteristic-people",
   "metadata": {},
   "outputs": [],
   "source": [
    "import joblib #used to dump/save the mo"
   ]
  },
  {
   "cell_type": "code",
   "execution_count": 16,
   "id": "incident-roots",
   "metadata": {},
   "outputs": [
    {
     "data": {
      "text/plain": [
       "['KNN.sav']"
      ]
     },
     "execution_count": 16,
     "metadata": {},
     "output_type": "execute_result"
    }
   ],
   "source": [
    "joblib.dump(KNN,'KNN.sav')"
   ]
  },
  {
   "cell_type": "code",
   "execution_count": null,
   "id": "literary-invasion",
   "metadata": {},
   "outputs": [],
   "source": []
  }
 ],
 "metadata": {
  "kernelspec": {
   "display_name": "Python 3",
   "language": "python",
   "name": "python3"
  },
  "language_info": {
   "codemirror_mode": {
    "name": "ipython",
    "version": 3
   },
   "file_extension": ".py",
   "mimetype": "text/x-python",
   "name": "python",
   "nbconvert_exporter": "python",
   "pygments_lexer": "ipython3",
   "version": "3.8.5"
  }
 },
 "nbformat": 4,
 "nbformat_minor": 5
}
