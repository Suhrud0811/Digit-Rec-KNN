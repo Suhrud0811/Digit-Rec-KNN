{
 "cells": [
  {
   "cell_type": "code",
   "execution_count": 49,
   "id": "visible-reviewer",
   "metadata": {},
   "outputs": [],
   "source": [
    "import tkinter as tk\n",
    "from PIL import ImageTk,Image,ImageDraw # This is a pillow library in python used for Image color conversion,Image drawing etc\n",
    "import numpy as np\n",
    "from matplotlib import pyplot as plt\n",
    "import cv2\n",
    "import joblib\n"
   ]
  },
  {
   "cell_type": "code",
   "execution_count": 50,
   "id": "offensive-jackson",
   "metadata": {},
   "outputs": [],
   "source": [
    "count=0\n",
    "trained_model=joblib.load('KNN-for-digits.sav')\n",
    "\n",
    "def eventfunction(event):\n",
    "    x=event.x #codri of x of mouse cursor\n",
    "    y=event.y #cordi of y of mouse cursor\n",
    "    \n",
    "    x1=x-30\n",
    "    y1=y-30\n",
    "    \n",
    "    x2=x+30\n",
    "    y2=y+30\n",
    "    \n",
    "    canvas.create_oval((x1,y1,x2,y2),fill='Black')\n",
    "    img_draw.ellipse((x1,y1,x2,y2),fill='White') #ellipse used because theres no oval function in pillow lib\n",
    "\n",
    "def save():\n",
    "    global count\n",
    "    imgarray=np.array(img)\n",
    "   # plt.imshow(imgarray)\n",
    "   # plt.show()\n",
    "    cv2.imwrite('data/'+str(count)+'.png',imgarray)\n",
    "    count+=1\n",
    "\n",
    "def clear():\n",
    "    global img_draw,img\n",
    "    \n",
    "    canvas.delete('all')\n",
    "    img=Image.new('RGB',(500,500),(0,0,0)) # to clear image just reinitilize it\n",
    "    img_draw=ImageDraw.Draw(img)\n",
    "    \n",
    "   \n",
    "\n",
    "def prediction():\n",
    "    imgarray=np.array(img)\n",
    "    imgarray=cv2.cvtColor(imgarray,cv2.COLOR_BGR2GRAY)\n",
    "    imgarray=cv2.resize(imgarray,(8,8)) # image resized as original image is 500*500,and model is trained with 8*8 size image\n",
    "    imgarray=imgarray.reshape(1,64)\n",
    "    predicted_target=trained_model.predict(imgarray)\n",
    "    #print(predicted_target)\n",
    "    predicted.config(text='Predicted value:'+str(predicted_target))\n",
    "  "
   ]
  },
  {
   "cell_type": "code",
   "execution_count": 51,
   "id": "strange-revelation",
   "metadata": {},
   "outputs": [],
   "source": [
    "gui=tk.Tk() #creates a main window\n",
    "\n",
    "count=0\n",
    "\n",
    "canvas=tk.Canvas(gui,width=500,height=500,bg='white')\n",
    "canvas.grid(row=0,column=0,columnspan=4)\n",
    "\n",
    "savebutton=tk.Button(gui,text='SAVE',bg='Blue',fg='white',command=save)\n",
    "savebutton.grid(row=1,column=0)\n",
    "\n",
    "\n",
    "predict=tk.Button(gui,text='PREDICT',bg='Green',fg='white',command=prediction)\n",
    "predict.grid(row=1,column=1)\n",
    "\n",
    "clear=tk.Button(gui,text='CLEAR',bg='Black',fg='white',command=clear)\n",
    "clear.grid(row=1,column=2)\n",
    "\n",
    "\n",
    "exitbutton=tk.Button(gui,text='EXIT',bg='Red',fg='white',command=gui.destroy)\n",
    "exitbutton.grid(row=1,column=3)\n",
    "\n",
    "predicted=tk.Label(gui,text='Predicted value:NONE',bg='White',fg='Black')\n",
    "predicted.grid(row=2,column=0,columnspan=4)\n",
    "\n",
    "canvas.bind('<B1-Motion>',eventfunction)#b1 specifies left click and motion is an event of mouse.when button will be pressed and mouse will\n",
    "# be movwd the eventfucntion  will be called\n",
    "\n",
    "img=Image.new('RGB',(500,500),(0,0,0))#creates a blank black image. returns image object\n",
    "img_draw=ImageDraw.Draw(img) #Actually draws image\n",
    "\n",
    "\n",
    "\n",
    "\n",
    "\n",
    "gui.mainloop()#runs the created window"
   ]
  },
  {
   "cell_type": "code",
   "execution_count": null,
   "id": "seeing-ordering",
   "metadata": {},
   "outputs": [],
   "source": []
  },
  {
   "cell_type": "code",
   "execution_count": null,
   "id": "neutral-rubber",
   "metadata": {},
   "outputs": [],
   "source": []
  },
  {
   "cell_type": "code",
   "execution_count": null,
   "id": "enabling-fever",
   "metadata": {},
   "outputs": [],
   "source": []
  }
 ],
 "metadata": {
  "kernelspec": {
   "display_name": "Python 3",
   "language": "python",
   "name": "python3"
  },
  "language_info": {
   "codemirror_mode": {
    "name": "ipython",
    "version": 3
   },
   "file_extension": ".py",
   "mimetype": "text/x-python",
   "name": "python",
   "nbconvert_exporter": "python",
   "pygments_lexer": "ipython3",
   "version": "3.8.5"
  }
 },
 "nbformat": 4,
 "nbformat_minor": 5
}
